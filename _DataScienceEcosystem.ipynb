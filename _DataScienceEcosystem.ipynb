{
 "cells": [
  {
   "cell_type": "markdown",
   "id": "dee79e20-a48c-419e-bfcd-cea5874d1f87",
   "metadata": {},
   "source": [
    "# Data Science Tools and Ecosystem"
   ]
  },
  {
   "cell_type": "markdown",
   "id": "7ff9daf7-f1e6-4c6e-ad5e-06ddf4a1eacd",
   "metadata": {},
   "source": [
    "### In this notebook, Data Science Tools and Ecosystem are summarized."
   ]
  },
  {
   "cell_type": "markdown",
   "id": "6363d0e6-5762-4510-b160-90560a5f8532",
   "metadata": {},
   "source": [
    "### Objectives:\n",
    " * List popular languages for Data Science\n",
    " * Evaluating arithmetic expressions\n",
    " * Creating a table in Markdown\n",
    " * Using Markdown in Jupyter Notebook"
   ]
  },
  {
   "cell_type": "markdown",
   "id": "b9fd3d96-39fd-4099-afca-f3548cf7c4c9",
   "metadata": {},
   "source": [
    "### Some of the popular languages that Data Scientists use are:"
   ]
  },
  {
   "cell_type": "code",
   "execution_count": 1,
   "id": "e0f49ad5-464a-48bf-9b2f-89b77bacca5e",
   "metadata": {},
   "outputs": [],
   "source": [
    "ordered_list = ['Python', 'Julia', 'R', 'Scala']"
   ]
  },
  {
   "cell_type": "code",
   "execution_count": 2,
   "id": "1dddd5c2-560d-407e-805f-2ea2dd582b39",
   "metadata": {},
   "outputs": [
    {
     "data": {
      "text/plain": [
       "['Python', 'Julia', 'R', 'Scala']"
      ]
     },
     "execution_count": 2,
     "metadata": {},
     "output_type": "execute_result"
    }
   ],
   "source": [
    "ordered_list"
   ]
  },
  {
   "cell_type": "markdown",
   "id": "437b35a7-de5e-4546-90f3-5485d283045f",
   "metadata": {},
   "source": [
    "|Data Science Tools|\n",
    "|:----------------:|\n",
    "| Jupyter Notebook |\n",
    "| Visual Studio    |\n",
    "| Anaconda         |\n"
   ]
  },
  {
   "cell_type": "markdown",
   "id": "5962f975-4de4-4db7-8729-ff504f8c6ded",
   "metadata": {},
   "source": [
    "### Below are a few examples of evaluating arithmetic expressions in Python"
   ]
  },
  {
   "cell_type": "code",
   "execution_count": 3,
   "id": "6a97bac2-a8ac-418e-8e20-6ffa3473e81d",
   "metadata": {},
   "outputs": [
    {
     "data": {
      "text/plain": [
       "17"
      ]
     },
     "execution_count": 3,
     "metadata": {},
     "output_type": "execute_result"
    }
   ],
   "source": [
    "#This a simple arithmetic expression to mutiply then add integers\n",
    "(3*4)+5"
   ]
  },
  {
   "cell_type": "code",
   "execution_count": 4,
   "id": "5b81cc1c-0ed0-4448-b5f0-886bd8fd8418",
   "metadata": {},
   "outputs": [
    {
     "data": {
      "text/plain": [
       "3.3333333333333335"
      ]
     },
     "execution_count": 4,
     "metadata": {},
     "output_type": "execute_result"
    }
   ],
   "source": [
    "#This will convert 200 minutes to hours by diving by 60\n",
    "min_hours = 200/60\n",
    "min_hours"
   ]
  },
  {
   "cell_type": "markdown",
   "id": "642e47fe-a332-4132-b2a9-0ade42ada9cd",
   "metadata": {},
   "source": [
    "## Author"
   ]
  },
  {
   "cell_type": "markdown",
   "id": "d33ce5bd-a40e-4b68-ad95-02dcedd0057d",
   "metadata": {},
   "source": [
    "##### Richard Mukechiwa "
   ]
  },
  {
   "cell_type": "code",
   "execution_count": null,
   "id": "1b474c53-c46b-40da-8edc-3ca4b2d61fce",
   "metadata": {},
   "outputs": [],
   "source": []
  }
 ],
 "metadata": {
  "kernelspec": {
   "display_name": "Python 3 (ipykernel)",
   "language": "python",
   "name": "python3"
  },
  "language_info": {
   "codemirror_mode": {
    "name": "ipython",
    "version": 3
   },
   "file_extension": ".py",
   "mimetype": "text/x-python",
   "name": "python",
   "nbconvert_exporter": "python",
   "pygments_lexer": "ipython3",
   "version": "3.11.7"
  }
 },
 "nbformat": 4,
 "nbformat_minor": 5
}
